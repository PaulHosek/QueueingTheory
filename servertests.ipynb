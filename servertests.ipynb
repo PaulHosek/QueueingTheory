{
 "cells": [
  {
   "cell_type": "code",
   "execution_count": 2,
   "metadata": {},
   "outputs": [],
   "source": [
    "import servers as sv\n",
    "import simpy as sp"
   ]
  },
  {
   "cell_type": "code",
   "execution_count": 3,
   "metadata": {},
   "outputs": [
    {
     "name": "stdout",
     "output_type": "stream",
     "text": [
      "Server 0 started\n"
     ]
    }
   ],
   "source": [
    "server = sv.Server(0, 5)"
   ]
  },
  {
   "cell_type": "code",
   "execution_count": 5,
   "metadata": {},
   "outputs": [
    {
     "name": "stdout",
     "output_type": "stream",
     "text": [
      "Message received at 0, queueing...\n",
      "Message opened at 6\n",
      "Message received at 8, queueing...\n",
      "Message opened at 14\n"
     ]
    }
   ],
   "source": [
    "def generate_messages(env):\n",
    "    while True:\n",
    "        print('Message received at %d...' % env.now)\n",
    "        new_arrival = 1\n",
    "        yield env.timeout(new_arrival)\n",
    "\n",
    "        print('Message processed at %d' % env.now)\n",
    "        processing_time = 10\n",
    "        yield env.timeout(processing_time)\n",
    "\n",
    "env = sp.Environment()\n",
    "env.process(generate_messages(env))\n",
    "env.run(until=15)"
   ]
  },
  {
   "cell_type": "code",
   "execution_count": 8,
   "metadata": {},
   "outputs": [
    {
     "ename": "KeyboardInterrupt",
     "evalue": "",
     "output_type": "error",
     "traceback": [
      "\u001b[0;31m---------------------------------------------------------------------------\u001b[0m",
      "\u001b[0;31mKeyboardInterrupt\u001b[0m                         Traceback (most recent call last)",
      "\u001b[1;32m/home/magnetification/Documents/University/CLS/StochSim/QueueingTheory/servertests.ipynb Cell 4\u001b[0m in \u001b[0;36m<cell line: 19>\u001b[0;34m()\u001b[0m\n\u001b[1;32m     <a href='vscode-notebook-cell:/home/magnetification/Documents/University/CLS/StochSim/QueueingTheory/servertests.ipynb#W5sZmlsZQ%3D%3D?line=16'>17</a>\u001b[0m i \u001b[39m=\u001b[39m \u001b[39m0\u001b[39m\n\u001b[1;32m     <a href='vscode-notebook-cell:/home/magnetification/Documents/University/CLS/StochSim/QueueingTheory/servertests.ipynb#W5sZmlsZQ%3D%3D?line=18'>19</a>\u001b[0m \u001b[39mwhile\u001b[39;00m(\u001b[39mTrue\u001b[39;00m):\n\u001b[0;32m---> <a href='vscode-notebook-cell:/home/magnetification/Documents/University/CLS/StochSim/QueueingTheory/servertests.ipynb#W5sZmlsZQ%3D%3D?line=19'>20</a>\u001b[0m     env\u001b[39m.\u001b[39mprocess(message(env, \u001b[39m'\u001b[39;49m\u001b[39mmessage \u001b[39;49m\u001b[39m%d\u001b[39;49;00m\u001b[39m'\u001b[39;49m \u001b[39m%\u001b[39;49m i, sys, i\u001b[39m*\u001b[39;49m\u001b[39m2\u001b[39;49m, \u001b[39m5\u001b[39;49m))\n\u001b[1;32m     <a href='vscode-notebook-cell:/home/magnetification/Documents/University/CLS/StochSim/QueueingTheory/servertests.ipynb#W5sZmlsZQ%3D%3D?line=20'>21</a>\u001b[0m     i \u001b[39m+\u001b[39m\u001b[39m=\u001b[39m \u001b[39m1\u001b[39m\n\u001b[1;32m     <a href='vscode-notebook-cell:/home/magnetification/Documents/University/CLS/StochSim/QueueingTheory/servertests.ipynb#W5sZmlsZQ%3D%3D?line=22'>23</a>\u001b[0m env\u001b[39m.\u001b[39mrun(until\u001b[39m=\u001b[39m\u001b[39m20\u001b[39m)\n",
      "\u001b[0;31mKeyboardInterrupt\u001b[0m: "
     ]
    }
   ],
   "source": [
    "def message(env, name, sys, send_time, processing):\n",
    "     # Simulate sending to the system\n",
    "     yield env.timeout(send_time)\n",
    "\n",
    "     # Request one of its charging spots\n",
    "     print('%s arriving at %d' % (name, env.now))\n",
    "     with sys.request() as req:\n",
    "         yield req\n",
    "\n",
    "         # Process message\n",
    "         print('%s starting to process at %s' % (name, env.now))\n",
    "         yield env.timeout(processing)\n",
    "         print('%s leaving the system at %s' % (name, env.now))\n",
    "\n",
    "env = sp.Environment()\n",
    "sys = sp.Resource(env, capacity=1)\n",
    "i = 0\n",
    "\n",
    "while(True):\n",
    "    env.process(message(env, 'message %d' % i, sys, i*2, 5))\n",
    "    i += 1\n",
    "\n",
    "env.run(until=20)"
   ]
  },
  {
   "cell_type": "code",
   "execution_count": 11,
   "metadata": {},
   "outputs": [
    {
     "name": "stdout",
     "output_type": "stream",
     "text": [
      "[1, 2, 3]\n",
      "[2, 3]\n"
     ]
    }
   ],
   "source": [
    "l = [1,2]\n",
    "l.append(3)\n",
    "print(l)\n",
    "l.pop(0)\n",
    "print(l)"
   ]
  },
  {
   "cell_type": "code",
   "execution_count": null,
   "metadata": {},
   "outputs": [],
   "source": []
  }
 ],
 "metadata": {
  "kernelspec": {
   "display_name": "Python 3.10.6 64-bit",
   "language": "python",
   "name": "python3"
  },
  "language_info": {
   "codemirror_mode": {
    "name": "ipython",
    "version": 3
   },
   "file_extension": ".py",
   "mimetype": "text/x-python",
   "name": "python",
   "nbconvert_exporter": "python",
   "pygments_lexer": "ipython3",
   "version": "3.10.6"
  },
  "orig_nbformat": 4,
  "vscode": {
   "interpreter": {
    "hash": "916dbcbb3f70747c44a77c7bcd40155683ae19c65e1c03b4aa3499c5328201f1"
   }
  }
 },
 "nbformat": 4,
 "nbformat_minor": 2
}
