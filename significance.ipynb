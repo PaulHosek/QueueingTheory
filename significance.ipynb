{
 "cells": [
  {
   "cell_type": "code",
   "execution_count": 4,
   "outputs": [],
   "source": [
    "import des_queue\n",
    "import simpy as sip\n",
    "import numpy as np\n",
    "from collections import deque\n",
    "import pandas as pd\n",
    "import os\n",
    "import csv\n",
    "from pathlib import Path\n",
    "import matplotlib.pyplot as plt\n",
    "import warnings\n",
    "import DES\n",
    "from scipy.stats import ttest_ind\n",
    "warnings.filterwarnings('ignore')"
   ],
   "metadata": {
    "collapsed": false,
    "pycharm": {
     "name": "#%%\n"
    }
   }
  },
  {
   "cell_type": "code",
   "execution_count": 5,
   "outputs": [],
   "source": [
    "def find_lowest_sign(col1,col2,alpha):\n",
    "    right = len(col1)-1\n",
    "    while is_significant(right, col1, col2, alpha):\n",
    "        right -= 1\n",
    "        # print(ttest_ind(col1[:right], col2[:right])[1])\n",
    "        # print(right)\n",
    "    # print('last',right)\n",
    "    return right +1\n",
    "\n",
    "def is_significant(idx, col1, col2, alpha):\n",
    "    if ttest_ind(col1[:idx], col2[:idx])[1] < alpha:\n",
    "        return True\n",
    "    else:\n",
    "        return False\n",
    "\n",
    "def write_signif(n_means, comparison, rho, low_idx_sign, alpha, name):\n",
    "    \"\"\"Log the current data to the file with the experiment.\n",
    "     If the file does not exist, make file and add header row.\n",
    "     :return void\n",
    "     \"\"\"\n",
    "\n",
    "    if not os.path.exists('signif_data'):\n",
    "        os.makedirs(\"signif_data\")\n",
    "\n",
    "    # if file does not exist yet make one and write the column headers in it\n",
    "    my_file = Path(os.path.join(\"signif_data\", name + \".csv\"))\n",
    "\n",
    "    if not my_file.is_file():\n",
    "        with open(os.path.join(\"signif_data\", name + \".csv\"), \"w+\") as f:\n",
    "            wr = csv.writer(f)\n",
    "            wr.writerow([\"n_means\",\"comparison\", \"rho\", \"low_idx_sign\", \"alpha\"])\n",
    "\n",
    "    # log the data\n",
    "    with open(os.path.join(\"signif_data\", name + \".csv\"), \"a\") as f:\n",
    "\n",
    "        wr = csv.writer(f)\n",
    "        wr.writerow([n_means, comparison, rho, low_idx_sign, alpha])\n",
    "    return None\n"
   ],
   "metadata": {
    "collapsed": false,
    "pycharm": {
     "name": "#%%\n"
    }
   }
  },
  {
   "cell_type": "code",
   "execution_count": 39,
   "outputs": [],
   "source": [
    "mulamb = [(1,0.99),(1,0.98), (1,0.94),(1,0.91), (1,0.83)]"
   ],
   "metadata": {
    "collapsed": false,
    "pycharm": {
     "name": "#%%\n"
    }
   }
  },
  {
   "cell_type": "code",
   "execution_count": 69,
   "outputs": [],
   "source": [
    "rhowait = {1:[], 2:[], 4:[]}\n",
    "rhos = [l for m,l in mulamb]\n",
    "nr_means = 49\n",
    "alpha = 0.05\n",
    "for mu,lamd in mulamb:\n",
    "    rho = lamd\n",
    "    # print(rho)\n",
    "\n",
    "    all_means = np.empty((nr_means,5))\n",
    "    for _,n in enumerate([1,2,4]):\n",
    "        name = f\"servers_{rho}_50\"\n",
    "        res, cutoffs = DES.waiting_times(name)\n",
    "        # print('start',rhowait[lamd][n])\n",
    "        results = res[n]\n",
    "        ct = cutoffs[n]\n",
    "\n",
    "        cur_means = [np.mean(results[ct[i]+int((ct[i+1]-ct[i])/2):ct[i+1]]) for i in range(len(ct)-1)]\n",
    "        # means_n.append(np.mean(results[ct[-2]:ct[-1]]))\n",
    "        all_means[:,n] = cur_means\n",
    "    for i,(a,b) in enumerate(zip([1,1,2],[2,4,4])):\n",
    "        # tes_res = ttest_ind(all_means[:,a],all_means[:,b])[1]\n",
    "        low_idx =find_lowest_sign(all_means[:,a],all_means[:,b],alpha)\n",
    "        write_signif(nr_means, (a,b),rho,low_idx, alpha, f'drive_2_sign_data{nr_means}')\n",
    "\n",
    "# means for nr_sim simulations, [1,2,4]\n",
    "# print(all_means)"
   ],
   "metadata": {
    "collapsed": false,
    "pycharm": {
     "name": "#%%\n"
    }
   }
  },
  {
   "cell_type": "code",
   "execution_count": 69,
   "outputs": [],
   "source": [],
   "metadata": {
    "collapsed": false,
    "pycharm": {
     "name": "#%%\n"
    }
   }
  },
  {
   "cell_type": "code",
   "execution_count": 69,
   "outputs": [],
   "source": [],
   "metadata": {
    "collapsed": false,
    "pycharm": {
     "name": "#%%\n"
    }
   }
  },
  {
   "cell_type": "code",
   "execution_count": 70,
   "outputs": [
    {
     "data": {
      "text/plain": "    n_means comparison   rho  low_idx_sign  alpha\n0        49     (1, 2)  0.99            26   0.05\n1        49     (1, 4)  0.99             2   0.05\n2        49     (2, 4)  0.99            49   0.05\n3        49     (1, 2)  0.98            26   0.05\n4        49     (1, 4)  0.98             6   0.05\n5        49     (2, 4)  0.98             8   0.05\n6        49     (1, 2)  0.94             5   0.05\n7        49     (1, 4)  0.94             5   0.05\n8        49     (2, 4)  0.94             7   0.05\n9        49     (1, 2)  0.91             4   0.05\n10       49     (1, 4)  0.91             2   0.05\n11       49     (2, 4)  0.91             4   0.05\n12       49     (1, 2)  0.83             3   0.05\n13       49     (1, 4)  0.83             3   0.05\n14       49     (2, 4)  0.83             2   0.05",
      "text/html": "<div>\n<style scoped>\n    .dataframe tbody tr th:only-of-type {\n        vertical-align: middle;\n    }\n\n    .dataframe tbody tr th {\n        vertical-align: top;\n    }\n\n    .dataframe thead th {\n        text-align: right;\n    }\n</style>\n<table border=\"1\" class=\"dataframe\">\n  <thead>\n    <tr style=\"text-align: right;\">\n      <th></th>\n      <th>n_means</th>\n      <th>comparison</th>\n      <th>rho</th>\n      <th>low_idx_sign</th>\n      <th>alpha</th>\n    </tr>\n  </thead>\n  <tbody>\n    <tr>\n      <th>0</th>\n      <td>49</td>\n      <td>(1, 2)</td>\n      <td>0.99</td>\n      <td>26</td>\n      <td>0.05</td>\n    </tr>\n    <tr>\n      <th>1</th>\n      <td>49</td>\n      <td>(1, 4)</td>\n      <td>0.99</td>\n      <td>2</td>\n      <td>0.05</td>\n    </tr>\n    <tr>\n      <th>2</th>\n      <td>49</td>\n      <td>(2, 4)</td>\n      <td>0.99</td>\n      <td>49</td>\n      <td>0.05</td>\n    </tr>\n    <tr>\n      <th>3</th>\n      <td>49</td>\n      <td>(1, 2)</td>\n      <td>0.98</td>\n      <td>26</td>\n      <td>0.05</td>\n    </tr>\n    <tr>\n      <th>4</th>\n      <td>49</td>\n      <td>(1, 4)</td>\n      <td>0.98</td>\n      <td>6</td>\n      <td>0.05</td>\n    </tr>\n    <tr>\n      <th>5</th>\n      <td>49</td>\n      <td>(2, 4)</td>\n      <td>0.98</td>\n      <td>8</td>\n      <td>0.05</td>\n    </tr>\n    <tr>\n      <th>6</th>\n      <td>49</td>\n      <td>(1, 2)</td>\n      <td>0.94</td>\n      <td>5</td>\n      <td>0.05</td>\n    </tr>\n    <tr>\n      <th>7</th>\n      <td>49</td>\n      <td>(1, 4)</td>\n      <td>0.94</td>\n      <td>5</td>\n      <td>0.05</td>\n    </tr>\n    <tr>\n      <th>8</th>\n      <td>49</td>\n      <td>(2, 4)</td>\n      <td>0.94</td>\n      <td>7</td>\n      <td>0.05</td>\n    </tr>\n    <tr>\n      <th>9</th>\n      <td>49</td>\n      <td>(1, 2)</td>\n      <td>0.91</td>\n      <td>4</td>\n      <td>0.05</td>\n    </tr>\n    <tr>\n      <th>10</th>\n      <td>49</td>\n      <td>(1, 4)</td>\n      <td>0.91</td>\n      <td>2</td>\n      <td>0.05</td>\n    </tr>\n    <tr>\n      <th>11</th>\n      <td>49</td>\n      <td>(2, 4)</td>\n      <td>0.91</td>\n      <td>4</td>\n      <td>0.05</td>\n    </tr>\n    <tr>\n      <th>12</th>\n      <td>49</td>\n      <td>(1, 2)</td>\n      <td>0.83</td>\n      <td>3</td>\n      <td>0.05</td>\n    </tr>\n    <tr>\n      <th>13</th>\n      <td>49</td>\n      <td>(1, 4)</td>\n      <td>0.83</td>\n      <td>3</td>\n      <td>0.05</td>\n    </tr>\n    <tr>\n      <th>14</th>\n      <td>49</td>\n      <td>(2, 4)</td>\n      <td>0.83</td>\n      <td>2</td>\n      <td>0.05</td>\n    </tr>\n  </tbody>\n</table>\n</div>"
     },
     "execution_count": 70,
     "metadata": {},
     "output_type": "execute_result"
    }
   ],
   "source": [
    "res = pd.read_csv(f'signif_data/drive_2_sign_data{nr_means}.csv')\n",
    "res"
   ],
   "metadata": {
    "collapsed": false,
    "pycharm": {
     "name": "#%%\n"
    }
   }
  },
  {
   "cell_type": "code",
   "execution_count": 71,
   "outputs": [
    {
     "data": {
      "text/plain": "<matplotlib.legend.Legend at 0x139a78580>"
     },
     "execution_count": 71,
     "metadata": {},
     "output_type": "execute_result"
    },
    {
     "data": {
      "text/plain": "<Figure size 432x288 with 1 Axes>",
      "image/png": "[encoded data removed]"
     },
     "metadata": {
      "needs_background": "light"
     },
     "output_type": "display_data"
    }
   ],
   "source": [
    "\n",
    "# for i in set(res['comparison']):\n",
    "\n",
    "all_comp = list(set(res['comparison']))\n",
    "cur_comp = res[res['comparison']==all_comp[0]]\n",
    "plt.semilogy(cur_comp['rho'],cur_comp['low_idx_sign'], label = f'{all_comp[0]}',color='blue')\n",
    "cur_comp = res[res['comparison']==all_comp[1]]\n",
    "plt.semilogy(cur_comp['rho'],cur_comp['low_idx_sign'], label = f'{all_comp[1]}',color='red')\n",
    "cur_comp = res[res['comparison']==all_comp[2]]\n",
    "plt.semilogy(cur_comp['rho'],cur_comp['low_idx_sign'], label = f'{all_comp[2]}',color='black')\n",
    "# plt.ylim((0,0.01))\n",
    "plt.legend()"
   ],
   "metadata": {
    "collapsed": false,
    "pycharm": {
     "name": "#%%\n"
    }
   }
  },
  {
   "cell_type": "code",
   "execution_count": 72,
   "outputs": [
    {
     "data": {
      "text/plain": "<matplotlib.legend.Legend at 0x13f0e0fa0>"
     },
     "execution_count": 72,
     "metadata": {},
     "output_type": "execute_result"
    },
    {
     "data": {
      "text/plain": "<Figure size 576x360 with 1 Axes>",
      "image/png": "[encoded data removed]"
     },
     "metadata": {
      "needs_background": "light"
     },
     "output_type": "display_data"
    }
   ],
   "source": [
    "colors = ['blue','red','black']\n",
    "plt.figure(figsize=(8,5))\n",
    "for i, comp in enumerate(list(set(res['comparison']))):\n",
    "    cur_comp = res[res['comparison']==comp]\n",
    "    plt.semilogy(cur_comp['rho'],cur_comp['low_idx_sign'],\n",
    "                 label = f'{all_comp[0]}',color=colors[i])\n",
    "    plt.scatter(cur_comp['rho'],cur_comp['low_idx_sign'],color=colors[i])\n",
    "\n",
    "# cur_comp = res[res['comparison']==all_comp[1]]\n",
    "# plt.semilogy(cur_comp['rho'],cur_comp['low_idx_sign'], label = f'{all_comp[1]}',color='red')\n",
    "# cur_comp = res[res['comparison']==all_comp[2]]\n",
    "# plt.semilogy(cur_comp['rho'],cur_comp['low_idx_sign'], label = f'{all_comp[2]}',color='black')\n",
    "# # plt.ylim((0,0.01))\n",
    "plt.legend()"
   ],
   "metadata": {
    "collapsed": false,
    "pycharm": {
     "name": "#%%\n"
    }
   }
  },
  {
   "cell_type": "code",
   "execution_count": null,
   "outputs": [],
   "source": [],
   "metadata": {
    "collapsed": false,
    "pycharm": {
     "name": "#%%\n"
    }
   }
  }
 ],
 "metadata": {
  "kernelspec": {
   "display_name": "Python 3",
   "language": "python",
   "name": "python3"
  },
  "language_info": {
   "codemirror_mode": {
    "name": "ipython",
    "version": 2
   },
   "file_extension": ".py",
   "mimetype": "text/x-python",
   "name": "python",
   "nbconvert_exporter": "python",
   "pygments_lexer": "ipython2",
   "version": "2.7.6"
  }
 },
 "nbformat": 4,
 "nbformat_minor": 0
}