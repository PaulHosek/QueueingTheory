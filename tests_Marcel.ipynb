{
 "cells": [
  {
   "cell_type": "code",
   "execution_count": 1,
   "metadata": {},
   "outputs": [],
   "source": [
    "import DES\n",
    "import numpy as np\n",
    "import simpy as sip\n",
    "import pandas as pd"
   ]
  },
  {
   "cell_type": "code",
   "execution_count": 2,
   "metadata": {},
   "outputs": [
    {
     "name": "stdout",
     "output_type": "stream",
     "text": [
      "1_servers\n",
      "Running simulations: ██████████\n",
      "\n",
      "2_servers\n",
      "Running simulations: ██████████\n",
      "\n",
      "4_servers\n",
      "Running simulations: ██████████\n",
      "\n"
     ]
    }
   ],
   "source": [
    "max_iter = 10000\n",
    "n = [1, 2, 4]\n",
    "mu = 9/10\n",
    "lamd = 1\n",
    "# print(f\"rho = {lamd/(1/mu*n)}\")\n",
    "a = np.random.exponential\n",
    "b = np.random.exponential\n",
    "queue_type = sip.Resource\n",
    "\n",
    "for n_servers in n:\n",
    "    t = f\"{n_servers}_servers\"\n",
    "    print(t)\n",
    "\n",
    "    for i in range(100):\n",
    "        DES.loading_bar(i)\n",
    "        DES.main_des(max_iter, n_servers, mu, lamd, a, b, queue_type, t)\n",
    "    print(\"\")"
   ]
  },
  {
   "cell_type": "code",
   "execution_count": 7,
   "metadata": {},
   "outputs": [
    {
     "data": {
      "text/plain": [
       "(8.080837654720314, 8.857296003210452)"
      ]
     },
     "execution_count": 7,
     "metadata": {},
     "output_type": "execute_result"
    }
   ],
   "source": [
    "n_servers = 1\n",
    "t = f\"{n_servers}_servers\"\n",
    "res = pd.read_csv(f\"logged_data/{t}.csv\")\n",
    "# sum(res[\"Queue_length\"])\n",
    "np.mean(res[\"wait_time\"]), np.std(res[\"wait_time\"])"
   ]
  },
  {
   "cell_type": "code",
   "execution_count": 8,
   "metadata": {},
   "outputs": [
    {
     "data": {
      "text/plain": [
       "(0.22888034672233146, 0.5675294220898974)"
      ]
     },
     "execution_count": 8,
     "metadata": {},
     "output_type": "execute_result"
    }
   ],
   "source": [
    "n_servers = 2\n",
    "t = f\"{n_servers}_servers\"\n",
    "res = pd.read_csv(f\"logged_data/{t}.csv\")\n",
    "# sum(res[\"Queue_length\"])\n",
    "np.mean(res[\"wait_time\"]), np.std(res[\"wait_time\"])"
   ]
  },
  {
   "cell_type": "code",
   "execution_count": 9,
   "metadata": {},
   "outputs": [
    {
     "data": {
      "text/plain": [
       "(0.004046473711472952, 0.04661692371860618)"
      ]
     },
     "execution_count": 9,
     "metadata": {},
     "output_type": "execute_result"
    }
   ],
   "source": [
    "n_servers = 4\n",
    "t = f\"{n_servers}_servers\"\n",
    "res = pd.read_csv(f\"logged_data/{t}.csv\")\n",
    "# sum(res[\"Queue_length\"])\n",
    "np.mean(res[\"wait_time\"]), np.std(res[\"wait_time\"])"
   ]
  },
  {
   "cell_type": "code",
   "execution_count": null,
   "metadata": {},
   "outputs": [],
   "source": []
  }
 ],
 "metadata": {
  "kernelspec": {
   "display_name": "Python 3.10.6 64-bit",
   "language": "python",
   "name": "python3"
  },
  "language_info": {
   "codemirror_mode": {
    "name": "ipython",
    "version": 3
   },
   "file_extension": ".py",
   "mimetype": "text/x-python",
   "name": "python",
   "nbconvert_exporter": "python",
   "pygments_lexer": "ipython3",
   "version": "3.10.6"
  },
  "orig_nbformat": 4,
  "vscode": {
   "interpreter": {
    "hash": "916dbcbb3f70747c44a77c7bcd40155683ae19c65e1c03b4aa3499c5328201f1"
   }
  }
 },
 "nbformat": 4,
 "nbformat_minor": 2
}
