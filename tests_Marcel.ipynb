{
 "cells": [
  {
   "cell_type": "code",
   "execution_count": 1,
   "metadata": {},
   "outputs": [],
   "source": [
    "import DES\n",
    "import numpy as np\n",
    "import simpy as sip\n",
    "import pandas as pd\n",
    "import matplotlib.pyplot as plt\n",
    "import scipy.stats as stats\n",
    "import statistics as st"
   ]
  },
  {
   "cell_type": "code",
   "execution_count": 2,
   "metadata": {},
   "outputs": [
    {
     "name": "stdout",
     "output_type": "stream",
     "text": [
      "rho = 0.99\n",
      "1_servers_normal_1000\n",
      "Running simulations: █████x____\r"
     ]
    },
    {
     "ename": "KeyboardInterrupt",
     "evalue": "",
     "output_type": "error",
     "traceback": [
      "\u001b[0;31m---------------------------------------------------------------------------\u001b[0m",
      "\u001b[0;31mKeyboardInterrupt\u001b[0m                         Traceback (most recent call last)",
      "\u001b[1;32m/home/magnetification/Documents/University/CLS/StochSim/QueueingTheory/tests_Marcel.ipynb Cell 2\u001b[0m in \u001b[0;36m<cell line: 4>\u001b[0;34m()\u001b[0m\n\u001b[1;32m      <a href='vscode-notebook-cell:/home/magnetification/Documents/University/CLS/StochSim/QueueingTheory/tests_Marcel.ipynb#W2sZmlsZQ%3D%3D?line=1'>2</a>\u001b[0m mu, lamd \u001b[39m=\u001b[39m \u001b[39m1\u001b[39m, \u001b[39m99\u001b[39m\u001b[39m/\u001b[39m\u001b[39m100\u001b[39m\n\u001b[1;32m      <a href='vscode-notebook-cell:/home/magnetification/Documents/University/CLS/StochSim/QueueingTheory/tests_Marcel.ipynb#W2sZmlsZQ%3D%3D?line=2'>3</a>\u001b[0m \u001b[39m# print(f\"rho = {lamd/(1/mu)}\")\u001b[39;00m\n\u001b[0;32m----> <a href='vscode-notebook-cell:/home/magnetification/Documents/University/CLS/StochSim/QueueingTheory/tests_Marcel.ipynb#W2sZmlsZQ%3D%3D?line=3'>4</a>\u001b[0m DES\u001b[39m.\u001b[39;49mrun_simu(name, sip\u001b[39m.\u001b[39;49mResource, mu, lamd, \u001b[39m1000\u001b[39;49m)\n\u001b[1;32m      <a href='vscode-notebook-cell:/home/magnetification/Documents/University/CLS/StochSim/QueueingTheory/tests_Marcel.ipynb#W2sZmlsZQ%3D%3D?line=4'>5</a>\u001b[0m res_dict, cutoffs \u001b[39m=\u001b[39m DES\u001b[39m.\u001b[39mwaiting_times(\u001b[39m'\u001b[39m\u001b[39mservers_normal_1000\u001b[39m\u001b[39m'\u001b[39m)\n",
      "File \u001b[0;32m~/Documents/University/CLS/StochSim/QueueingTheory/DES.py:72\u001b[0m, in \u001b[0;36mrun_simu\u001b[0;34m(name, queue_type, mu, lamd, imax)\u001b[0m\n\u001b[1;32m     70\u001b[0m \u001b[39mfor\u001b[39;00m i \u001b[39min\u001b[39;00m \u001b[39mrange\u001b[39m(imax):\n\u001b[1;32m     71\u001b[0m     loading_bar(i, imax)\n\u001b[0;32m---> 72\u001b[0m     main_des(max_iter, n_servers, mu, lamd\u001b[39m/\u001b[39;49mn_servers, a, b, queue_type, t)\n\u001b[1;32m     73\u001b[0m \u001b[39mprint\u001b[39m(\u001b[39m\"\u001b[39m\u001b[39m\"\u001b[39m)\n",
      "File \u001b[0;32m~/Documents/University/CLS/StochSim/QueueingTheory/DES.py:40\u001b[0m, in \u001b[0;36mmain_des\u001b[0;34m(max_iter, n, mu, lamd, a, b, queue_type, experiment_name)\u001b[0m\n\u001b[1;32m     38\u001b[0m env \u001b[39m=\u001b[39m sip\u001b[39m.\u001b[39mEnvironment()\n\u001b[1;32m     39\u001b[0m env\u001b[39m.\u001b[39mprocess(des_simulation(env, n, mu, lamd, a, b, queue_type,experiment_name))\n\u001b[0;32m---> 40\u001b[0m env\u001b[39m.\u001b[39;49mrun(until\u001b[39m=\u001b[39;49mmax_iter)\n",
      "File \u001b[0;32m~/.local/lib/python3.10/site-packages/simpy/core.py:254\u001b[0m, in \u001b[0;36mEnvironment.run\u001b[0;34m(self, until)\u001b[0m\n\u001b[1;32m    252\u001b[0m \u001b[39mtry\u001b[39;00m:\n\u001b[1;32m    253\u001b[0m     \u001b[39mwhile\u001b[39;00m \u001b[39mTrue\u001b[39;00m:\n\u001b[0;32m--> 254\u001b[0m         \u001b[39mself\u001b[39;49m\u001b[39m.\u001b[39;49mstep()\n\u001b[1;32m    255\u001b[0m \u001b[39mexcept\u001b[39;00m StopSimulation \u001b[39mas\u001b[39;00m exc:\n\u001b[1;32m    256\u001b[0m     \u001b[39mreturn\u001b[39;00m exc\u001b[39m.\u001b[39margs[\u001b[39m0\u001b[39m]  \u001b[39m# == until.value\u001b[39;00m\n",
      "File \u001b[0;32m~/.local/lib/python3.10/site-packages/simpy/core.py:198\u001b[0m, in \u001b[0;36mEnvironment.step\u001b[0;34m(self)\u001b[0m\n\u001b[1;32m    196\u001b[0m callbacks, event\u001b[39m.\u001b[39mcallbacks \u001b[39m=\u001b[39m event\u001b[39m.\u001b[39mcallbacks, \u001b[39mNone\u001b[39;00m  \u001b[39m# type: ignore\u001b[39;00m\n\u001b[1;32m    197\u001b[0m \u001b[39mfor\u001b[39;00m callback \u001b[39min\u001b[39;00m callbacks:\n\u001b[0;32m--> 198\u001b[0m     callback(event)\n\u001b[1;32m    200\u001b[0m \u001b[39mif\u001b[39;00m \u001b[39mnot\u001b[39;00m event\u001b[39m.\u001b[39m_ok \u001b[39mand\u001b[39;00m \u001b[39mnot\u001b[39;00m \u001b[39mhasattr\u001b[39m(event, \u001b[39m'\u001b[39m\u001b[39m_defused\u001b[39m\u001b[39m'\u001b[39m):\n\u001b[1;32m    201\u001b[0m     \u001b[39m# The event has failed and has not been defused. Crash the\u001b[39;00m\n\u001b[1;32m    202\u001b[0m     \u001b[39m# environment.\u001b[39;00m\n\u001b[1;32m    203\u001b[0m     \u001b[39m# Create a copy of the failure exception with a new traceback.\u001b[39;00m\n\u001b[1;32m    204\u001b[0m     exc \u001b[39m=\u001b[39m \u001b[39mtype\u001b[39m(event\u001b[39m.\u001b[39m_value)(\u001b[39m*\u001b[39mevent\u001b[39m.\u001b[39m_value\u001b[39m.\u001b[39margs)\n",
      "\u001b[0;31mKeyboardInterrupt\u001b[0m: "
     ]
    }
   ],
   "source": [
    "name = 'servers_'\n",
    "mu, lamd = 1, 99/100\n",
    "# print(f\"rho = {lamd/(1/mu)}\")\n",
    "DES.run_simu(name, sip.Resource, mu, lamd, 1000)\n",
    "res_dict, cutoffs = DES.waiting_times('servers_normal_1000')"
   ]
  },
  {
   "cell_type": "code",
   "execution_count": null,
   "metadata": {},
   "outputs": [],
   "source": [
    "def plots(res_dict):\n",
    "    c = [_, 'blue', 'green', _, 'orange']\n",
    "    for n in [1,2,4]:\n",
    "        results = res_dict[n]\n",
    "        ct = cutoffs[n]\n",
    "        means_n = [np.mean(results[ct[i]:ct[i+1]]) for i in range(len(ct)-1)]\n",
    "        means_n.append(np.mean(results[ct[-2]:ct[-1]]))\n",
    "\n",
    "        # Normal distribution plots\n",
    "        means_n[means_n == 0] = np.nan\n",
    "\n",
    "        mu, std = np.nanmean(means_n), np.nanstd(means_n)\n",
    "        print(mu, std)\n",
    "        x = np.linspace(mu - 3*std, mu + 5*std, 75)\n",
    "        fig, ax = plt.subplots()\n",
    "        plt.plot(x, stats.norm.pdf(x, mu, std), label=f'{n} server normal distribution', color=c[n])\n",
    "        print(f\"{n} server mean waiting times: {mu}\")\n",
    "        \n",
    "\n",
    "        # Chi 2 distribution plots\n",
    "        # df = st.median(means_n)\n",
    "        # chi_x = np.linspace(stats.chi2.ppf(0.00001, df), stats.chi2.ppf(0.99999, df), 100)\n",
    "        # plt.plot(chi_x, stats.chi2.pdf(chi_x, df), label=f'{n} server chi2 distribution', color='black')\n",
    "\n",
    "        # Histogram\n",
    "        plt.hist(means_n, bins=int(len(means_n)/10), label=f'{n} server means', alpha=0.5, color=c[n], density=True,stacked=True)\n",
    "        ax.set_xlim(0,150)\n",
    "        plt.legend()\n",
    "        plt.show()"
   ]
  },
  {
   "cell_type": "code",
   "execution_count": null,
   "metadata": {},
   "outputs": [],
   "source": [
    "plots(res_dict)"
   ]
  },
  {
   "cell_type": "code",
   "execution_count": null,
   "metadata": {},
   "outputs": [],
   "source": [
    "# Waiting time distributions\n",
    "plt.hist(res_dict[1], bins=100, label='1 server')\n",
    "plt.hist(res_dict[2], bins=100, alpha=0.5, label='2 servers')\n",
    "plt.hist(res_dict[4], bins=100, alpha=0.4, label='4 servers')\n",
    "plt.legend()\n",
    "plt.show()"
   ]
  },
  {
   "cell_type": "code",
   "execution_count": null,
   "metadata": {},
   "outputs": [],
   "source": []
  }
 ],
 "metadata": {
  "kernelspec": {
   "display_name": "Python 3.10.6 64-bit",
   "language": "python",
   "name": "python3"
  },
  "language_info": {
   "codemirror_mode": {
    "name": "ipython",
    "version": 3
   },
   "file_extension": ".py",
   "mimetype": "text/x-python",
   "name": "python",
   "nbconvert_exporter": "python",
   "pygments_lexer": "ipython3",
   "version": "3.10.6"
  },
  "orig_nbformat": 4,
  "vscode": {
   "interpreter": {
    "hash": "916dbcbb3f70747c44a77c7bcd40155683ae19c65e1c03b4aa3499c5328201f1"
   }
  }
 },
 "nbformat": 4,
 "nbformat_minor": 2
}
