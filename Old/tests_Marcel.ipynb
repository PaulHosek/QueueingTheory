{
 "cells": [
  {
   "cell_type": "code",
   "execution_count": 1,
   "metadata": {},
   "outputs": [],
   "source": [
    "import DES\n",
    "import plotting\n",
    "import numpy as np\n",
    "import simpy as sip\n",
    "import pandas as pd\n",
    "import matplotlib.pyplot as plt\n",
    "import scipy.stats as stats\n",
    "import statistics as st"
   ]
  },
  {
   "cell_type": "code",
   "execution_count": 2,
   "metadata": {},
   "outputs": [
    {
     "name": "stdout",
     "output_type": "stream",
     "text": [
      "0.83\n",
      "rho = 0.8333333333333334\n",
      "1_servers_const_0.83_50\n",
      "Running simulations: ██████████\n",
      "\n",
      "rho = 0.8333333333333334\n",
      "2_servers_const_0.83_50\n",
      "Running simulations: ██████████\n",
      "\n",
      "rho = 0.8333333333333334\n",
      "4_servers_const_0.83_50\n",
      "Running simulations: ██████████\n",
      "\n",
      "0.91\n",
      "rho = 0.9090909090909091\n",
      "1_servers_const_0.91_50\n",
      "Running simulations: ██████████\n",
      "\n",
      "rho = 0.9090909090909091\n",
      "2_servers_const_0.91_50\n",
      "Running simulations: ██████████\n",
      "\n",
      "rho = 0.9090909090909091\n",
      "4_servers_const_0.91_50\n",
      "Running simulations: ██████████\n",
      "\n",
      "0.94\n",
      "rho = 0.9433962264150942\n",
      "1_servers_const_0.94_50\n",
      "Running simulations: ██████████\n",
      "\n",
      "rho = 0.9433962264150942\n",
      "2_servers_const_0.94_50\n",
      "Running simulations: ██████████\n",
      "\n",
      "rho = 0.9433962264150942\n",
      "4_servers_const_0.94_50\n",
      "Running simulations: ██████████\n",
      "\n",
      "0.98\n",
      "rho = 0.9803921568627451\n",
      "1_servers_const_0.98_50\n",
      "Running simulations: ██████████\n",
      "\n",
      "rho = 0.9803921568627451\n",
      "2_servers_const_0.98_50\n",
      "Running simulations: ██████████\n",
      "\n",
      "rho = 0.9803921568627451\n",
      "4_servers_const_0.98_50\n",
      "Running simulations: ██████████\n",
      "\n",
      "0.99\n",
      "rho = 0.9900990099009901\n",
      "1_servers_const_0.99_50\n",
      "Running simulations: ██████████\n",
      "\n",
      "rho = 0.9900990099009901\n",
      "2_servers_const_0.99_50\n",
      "Running simulations: ██████████\n",
      "\n",
      "rho = 0.9900990099009901\n",
      "4_servers_const_0.99_50\n",
      "Running simulations: ██████████\n",
      "\n"
     ]
    }
   ],
   "source": [
    "mulamb = [(1,1.2), (1,1.1), (1,1.06), (1,1.02), (1,1.01)]\n",
    "\n",
    "# # FIFO queue\n",
    "for mu,lamd in mulamb:\n",
    "    rho = np.round((1/lamd)/(mu), 2)\n",
    "    print(rho)\n",
    "    name = f'servers_const_{rho}'\n",
    "    DES.run_simu(name, sip.Resource, mu, lamd, 50)\n",
    "\n",
    "# Priority queue\n",
    "# for mu,lamd in mulamb:\n",
    "#     rho = np.round((1/lamd)/(mu), 2)\n",
    "#     # print(rho)\n",
    "#     name = f'servers_prio_{rho}'\n",
    "#     DES.run_simu(name, sip.PriorityResource, mu, lamd, 50)"
   ]
  },
  {
   "cell_type": "code",
   "execution_count": 3,
   "metadata": {},
   "outputs": [
    {
     "data": {
      "image/png": "[encoded data removed]",
      "text/plain": [
       "<Figure size 432x288 with 1 Axes>"
      ]
     },
     "metadata": {
      "needs_background": "light"
     },
     "output_type": "display_data"
    }
   ],
   "source": [
    "plotting.rho_v_wait('servers_const')\n",
    "# plotting.rho_v_wait('servers')"
   ]
  },
  {
   "cell_type": "code",
   "execution_count": null,
   "metadata": {},
   "outputs": [],
   "source": [
    "mulamb = [(1,1.2), (1,1.1), (1,1.06), (1,1.02), (1,1.01)]\n",
    "rhos = [np.round((1/l)/m, 2) for m,l in mulamb]\n",
    "for r in rhos:\n",
    "    print(r)\n",
    "    name = f\"servers_exp_{r}_50\"\n",
    "    res_dict, cutoffs = DES.waiting_times(name)\n",
    "    plotting.plots(res_dict, cutoffs)"
   ]
  },
  {
   "cell_type": "code",
   "execution_count": null,
   "metadata": {},
   "outputs": [],
   "source": [
    "res_dict, c = DES.waiting_times('servers_exp_0.99_50')\n",
    "# Waiting time distributions\n",
    "plt.hist(res_dict[1], bins=100, label='1 server')\n",
    "plt.hist(res_dict[2], bins=100, alpha=0.5, label='2 servers')\n",
    "plt.hist(res_dict[4], bins=100, alpha=0.4, label='4 servers')\n",
    "plt.legend()\n",
    "plt.show()"
   ]
  }
 ],
 "metadata": {
  "kernelspec": {
   "display_name": "Python 3.10.6 64-bit",
   "language": "python",
   "name": "python3"
  },
  "language_info": {
   "codemirror_mode": {
    "name": "ipython",
    "version": 3
   },
   "file_extension": ".py",
   "mimetype": "text/x-python",
   "name": "python",
   "nbconvert_exporter": "python",
   "pygments_lexer": "ipython3",
   "version": "3.10.6"
  },
  "orig_nbformat": 4,
  "vscode": {
   "interpreter": {
    "hash": "916dbcbb3f70747c44a77c7bcd40155683ae19c65e1c03b4aa3499c5328201f1"
   }
  }
 },
 "nbformat": 4,
 "nbformat_minor": 2
}
