{
 "cells": [
  {
   "cell_type": "code",
   "execution_count": 78,
   "metadata": {
    "collapsed": true,
    "pycharm": {
     "name": "#%%\n"
    }
   },
   "outputs": [],
   "source": [
    "import des_queue\n",
    "import simpy as sip\n",
    "import numpy as np\n",
    "from collections import deque\n",
    "import pandas as pd\n",
    "import os\n",
    "import csv\n",
    "from pathlib import Path\n",
    "import matplotlib.pyplot as plt"
   ]
  },
  {
   "cell_type": "code",
   "execution_count": 78,
   "outputs": [],
   "source": [],
   "metadata": {
    "collapsed": false,
    "pycharm": {
     "name": "#%%\n"
    }
   }
  },
  {
   "cell_type": "code",
   "execution_count": 79,
   "outputs": [],
   "source": [
    "# # name = 'servers_'\n",
    "# mu, lamd = 1, 99/100\n",
    "# # print(f\"rho = {lamd/(1/mu)}\")\n",
    "# DES.run_simu(name, sip.Resource, mu, lamd, 1000)\n",
    "# res_dict, cutoffs = DES.waiting_times('servers_normal_1000')"
   ],
   "metadata": {
    "collapsed": false,
    "pycharm": {
     "name": "#%%\n"
    }
   }
  },
  {
   "cell_type": "code",
   "execution_count": 80,
   "outputs": [
    {
     "name": "stdout",
     "output_type": "stream",
     "text": [
      "Rho is 0.2.\n"
     ]
    }
   ],
   "source": [
    "max_iter = 1000\n",
    "n = 1\n",
    "mu = 1/1\n",
    "lamd = 1/5\n",
    "a = np.random.exponential\n",
    "b = np.random.exponential\n",
    "queue_type = sip.Resource\n",
    "f_name = 'testing_sign_11'\n",
    "\n",
    "path = f\"logged_data/{f_name}.csv\"\n",
    "print(f\"Rho is {lamd/mu}.\")"
   ],
   "metadata": {
    "collapsed": false,
    "pycharm": {
     "name": "#%%\n"
    }
   }
  },
  {
   "cell_type": "code",
   "execution_count": 81,
   "outputs": [
    {
     "name": "stdout",
     "output_type": "stream",
     "text": [
      "DES finished.\n"
     ]
    },
    {
     "data": {
      "text/plain": "0        0.000000\n1        1.176669\n2        2.524926\n3        2.900783\n4        2.897477\n          ...    \n975    790.426994\n976    790.739003\n977    791.245597\n978    791.342358\n979    792.169416\nLength: 980, dtype: float64"
     },
     "execution_count": 81,
     "metadata": {},
     "output_type": "execute_result"
    }
   ],
   "source": [
    "def gen_waiting_time(n,max_iter, mu, lamd , a, b, queue_type,f_name):\n",
    "    des_queue.main_des(max_iter, n, (1/n)*mu, lamd , a, b, queue_type,f_name)\n",
    "    my_df = pd.read_csv(f\"logged_data/{f_name}.csv\")\n",
    "    n2_waiting_time = my_df[\"entry_time\"] - my_df[\"start_request_time\"]\n",
    "    if(os.path.exists(path) and os.path.isfile(path)):\n",
    "        os.remove(path)\n",
    "    return n2_waiting_time\n",
    "n= 1\n",
    "res = gen_waiting_time(n,max_iter, mu, lamd , a, b, queue_type,f_name)\n",
    "res"
   ],
   "metadata": {
    "collapsed": false,
    "pycharm": {
     "name": "#%%\n"
    }
   }
  },
  {
   "cell_type": "code",
   "execution_count": 82,
   "outputs": [
    {
     "data": {
      "text/plain": "[<matplotlib.lines.Line2D at 0x1474082e0>]"
     },
     "execution_count": 82,
     "metadata": {},
     "output_type": "execute_result"
    },
    {
     "data": {
      "text/plain": "<Figure size 432x288 with 1 Axes>",
      "image/png": "[encoded data removed]"
     },
     "metadata": {
      "needs_background": "light"
     },
     "output_type": "display_data"
    }
   ],
   "source": [
    "plt.plot(res)"
   ],
   "metadata": {
    "collapsed": false,
    "pycharm": {
     "name": "#%%\n"
    }
   }
  },
  {
   "cell_type": "code",
   "execution_count": 83,
   "outputs": [
    {
     "data": {
      "text/plain": "array([0.1, 0.2, 0.3, 0.4, 0.5, 0.6, 0.7, 0.8, 0.9])"
     },
     "execution_count": 83,
     "metadata": {},
     "output_type": "execute_result"
    }
   ],
   "source": [
    "\n",
    "\n",
    "# n 1 only for now\n",
    "all_rhos = np.arange(0.1,1,0.1)\n",
    "all_rhos"
   ],
   "metadata": {
    "collapsed": false,
    "pycharm": {
     "name": "#%%\n"
    }
   }
  },
  {
   "cell_type": "markdown",
   "source": [
    "------"
   ],
   "metadata": {
    "collapsed": false,
    "pycharm": {
     "name": "#%% md\n"
    }
   }
  },
  {
   "cell_type": "code",
   "execution_count": 84,
   "outputs": [
    {
     "ename": "SyntaxError",
     "evalue": "invalid decimal literal (3134711916.py, line 11)",
     "output_type": "error",
     "traceback": [
      "\u001B[0;36m  Input \u001B[0;32mIn [84]\u001B[0;36m\u001B[0m\n\u001B[0;31m    for comparison in [1vs4,1vs2,2vs4]:\u001B[0m\n\u001B[0m                       ^\u001B[0m\n\u001B[0;31mSyntaxError\u001B[0m\u001B[0;31m:\u001B[0m invalid decimal literal\n"
     ]
    }
   ],
   "source": [
    "sign_df = pd.DataFrame(columns=[\"Comparison\", \"Rho\", 'Low_idx_sign'])\n",
    "\n",
    "\n",
    "\n",
    "\n",
    "# get csvs for n 1,2,4\n",
    "alpha = 0.05\n",
    "name = \"test\"\n",
    "n_samples = 1000\n",
    "# access one csv\n",
    "for comparison in [1vs4,1vs2,2vs4]:\n",
    "    for rho in all_rhos:\n",
    "        # do simulation here\n",
    "\n",
    "        while not is_significant(col1,col2):\n",
    "            n_samples *= 2\n",
    "            print(f\"Ttest with all samples is not significant for rho {rho}, and comparing {comparison}. Doubling the sample to {n_samples}\")\n",
    "\n",
    "        else:\n",
    "            low_idx =find_lowest_sign(col1,col2,alpha)\n",
    "            write_signif(comparison,rho,low_idx, alpha, name)\n",
    "            sign_df[] =\n",
    "\n"
   ],
   "metadata": {
    "collapsed": false,
    "pycharm": {
     "name": "#%%\n"
    }
   }
  },
  {
   "cell_type": "code",
   "execution_count": null,
   "outputs": [],
   "source": [
    "\n",
    "def write_signif(comparison,rho,low_idx_sign, alpha,name):\n",
    "    \"\"\"Log the current data to the file with the experiment.\n",
    "     If the file does not exist, make file and add header row.\n",
    "     :return void\n",
    "     \"\"\"\n",
    "\n",
    "    if not os.path.exists('signif_data'):\n",
    "        os.makedirs(\"signif_data\")\n",
    "\n",
    "    # if file does not exist yet make one and write the column headers in it\n",
    "    my_file = Path(os.path.join(\"signif_data\", name+\".csv\"))\n",
    "\n",
    "    if not my_file.is_file():\n",
    "        with open(os.path.join(\"signif_data\", name+\".csv\"),\"w+\") as f:\n",
    "            wr = csv.writer(f)\n",
    "            wr.writerow([\"experiment_name\",\"ID\",\"Queue_length\",\"start_request_time\",\"entry_time\",\"exit_time\",\"current_time\"])\n",
    "\n",
    "    # log the data\n",
    "    with open(os.path.join(\"signif_data\", name+\".csv\"), \"a\") as f:\n",
    "\n",
    "        wr = csv.writer(f)\n",
    "        wr.writerow([comparison,rho,low_idx_sign, alpha])\n",
    "    return None"
   ],
   "metadata": {
    "collapsed": false,
    "pycharm": {
     "name": "#%%\n"
    }
   }
  },
  {
   "cell_type": "code",
   "execution_count": null,
   "outputs": [],
   "source": [
    "def find_lowest_sign(col1,col2,alpha):\n",
    "    \"\"\"\n",
    "    Binary search for lowest significant index.\n",
    "    :param col1:\n",
    "    :param col2:\n",
    "    :param alpha:\n",
    "    :return: lowest index that is significant\n",
    "    \"\"\"\n",
    "    n_samples = len(col1)\n",
    "    high = n_samples\n",
    "    low = 0\n",
    "    last_signif_idx = n_samples\n",
    "    while low <= high:\n",
    "\n",
    "        mid = low + (high - low)//2\n",
    "\n",
    "\n",
    "        if is_significant(array[mid], col1,col2,0.05) and last_signif_idx-1 == mid:\n",
    "            return mid\n",
    "\n",
    "        # if not significant yet move up left boundary\n",
    "        elif not is_significant(array[mid],col1,col2,0.05):\n",
    "            low = mid + 1\n",
    "        # if is significant, move down right boundary\n",
    "        else:\n",
    "            last_signif_idx = mid\n",
    "            high = mid - 1\n",
    "\n",
    "    return -1\n",
    "\n",
    "from scipy.stats import ttest_ind\n",
    "def is_significant(idx,col1,col2,alpha):\n",
    "   if ttest_ind(col1[:idx], col2[:idx])[1] < alpha:\n",
    "       return True\n",
    "   else:\n",
    "       return False"
   ],
   "metadata": {
    "collapsed": false,
    "pycharm": {
     "name": "#%%\n"
    }
   }
  },
  {
   "cell_type": "code",
   "execution_count": null,
   "outputs": [],
   "source": [],
   "metadata": {
    "collapsed": false,
    "pycharm": {
     "name": "#%%\n"
    }
   }
  },
  {
   "cell_type": "code",
   "execution_count": null,
   "outputs": [],
   "source": [],
   "metadata": {
    "collapsed": false,
    "pycharm": {
     "name": "#%%\n"
    }
   }
  }
 ],
 "metadata": {
  "kernelspec": {
   "display_name": "Python 3",
   "language": "python",
   "name": "python3"
  },
  "language_info": {
   "codemirror_mode": {
    "name": "ipython",
    "version": 2
   },
   "file_extension": ".py",
   "mimetype": "text/x-python",
   "name": "python",
   "nbconvert_exporter": "python",
   "pygments_lexer": "ipython2",
   "version": "2.7.6"
  }
 },
 "nbformat": 4,
 "nbformat_minor": 0
}