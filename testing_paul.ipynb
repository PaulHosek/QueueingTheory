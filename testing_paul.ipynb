{
 "cells": [
  {
   "cell_type": "code",
   "execution_count": 16,
   "metadata": {
    "collapsed": true,
    "pycharm": {
     "name": "#%%\n"
    }
   },
   "outputs": [],
   "source": [
    "import des_queue\n",
    "import simpy as sip\n",
    "import numpy as np\n",
    "from collections import deque\n",
    "import pandas as pd\n",
    "import os\n",
    "import csv\n",
    "from pathlib import Path\n",
    "import matplotlib.pyplot as plt\n",
    "import warnings\n",
    "warnings.filterwarnings('ignore')"
   ]
  },
  {
   "cell_type": "code",
   "execution_count": 16,
   "outputs": [],
   "source": [],
   "metadata": {
    "collapsed": false,
    "pycharm": {
     "name": "#%%\n"
    }
   }
  },
  {
   "cell_type": "code",
   "execution_count": 17,
   "outputs": [],
   "source": [
    "# # name = 'servers_'\n",
    "# mu, lamd = 1, 99/100\n",
    "# # print(f\"rho = {lamd/(1/mu)}\")\n",
    "# DES.run_simu(name, sip.Resource, mu, lamd, 1000)\n",
    "# res_dict, cutoffs = DES.waiting_times('servers_normal_1000')"
   ],
   "metadata": {
    "collapsed": false,
    "pycharm": {
     "name": "#%%\n"
    }
   }
  },
  {
   "cell_type": "code",
   "execution_count": 18,
   "outputs": [
    {
     "name": "stdout",
     "output_type": "stream",
     "text": [
      "Rho is 0.8.\n"
     ]
    }
   ],
   "source": [
    "max_iter = 5000\n",
    "n = 1\n",
    "mu = 1\n",
    "lamd = 1/0.8\n",
    "a = np.random.exponential\n",
    "b = np.random.exponential\n",
    "queue_type = sip.Resource\n",
    "f_name = 'testing_sign_11'\n",
    "\n",
    "path = f\"logged_data/{f_name}.csv\"\n",
    "print(f\"Rho is {1/lamd/mu}.\")"
   ],
   "metadata": {
    "collapsed": false,
    "pycharm": {
     "name": "#%%\n"
    }
   }
  },
  {
   "cell_type": "code",
   "execution_count": 19,
   "outputs": [
    {
     "name": "stdout",
     "output_type": "stream",
     "text": [
      "DES finished.\n"
     ]
    },
    {
     "data": {
      "text/plain": "0       0.000000\n1       0.000000\n2       0.132967\n3       0.000000\n4       0.000000\n          ...   \n3974    9.040016\n3975    7.619455\n3976    8.069957\n3977    8.754000\n3978    9.314387\nLength: 3979, dtype: float64"
     },
     "execution_count": 19,
     "metadata": {},
     "output_type": "execute_result"
    }
   ],
   "source": [
    "def gen_waiting_time(n,max_iter, mu, lamd , a, b, queue_type,f_name):\n",
    "    des_queue.main_des(max_iter, n, (1/n)*mu , lamd, a, b, queue_type,f_name)\n",
    "    my_df = pd.read_csv(f\"logged_data/{f_name}.csv\")\n",
    "    n2_waiting_time = my_df[\"entry_time\"] - my_df[\"start_request_time\"]\n",
    "    if(os.path.exists(path) and os.path.isfile(path)):\n",
    "        os.remove(path)\n",
    "    return n2_waiting_time\n",
    "n= 1\n",
    "res = gen_waiting_time(n,max_iter, mu, lamd , a, b, queue_type,f_name)\n",
    "res"
   ],
   "metadata": {
    "collapsed": false,
    "pycharm": {
     "name": "#%%\n"
    }
   }
  },
  {
   "cell_type": "code",
   "execution_count": 20,
   "outputs": [
    {
     "data": {
      "text/plain": "[<matplotlib.lines.Line2D at 0x13adb2590>]"
     },
     "execution_count": 20,
     "metadata": {},
     "output_type": "execute_result"
    },
    {
     "data": {
      "text/plain": "<Figure size 432x288 with 1 Axes>",
      "image/png": "[encoded data removed]"
     },
     "metadata": {
      "needs_background": "light"
     },
     "output_type": "display_data"
    }
   ],
   "source": [
    "plt.plot(res)"
   ],
   "metadata": {
    "collapsed": false,
    "pycharm": {
     "name": "#%%\n"
    }
   }
  },
  {
   "cell_type": "code",
   "execution_count": 21,
   "outputs": [
    {
     "data": {
      "text/plain": "array([0.1, 0.2, 0.3, 0.4, 0.5, 0.6, 0.7, 0.8, 0.9])"
     },
     "execution_count": 21,
     "metadata": {},
     "output_type": "execute_result"
    }
   ],
   "source": [
    "# n 1 only for now\n",
    "all_rhos = np.arange(0.1,1,0.1)\n",
    "all_rhos"
   ],
   "metadata": {
    "collapsed": false,
    "pycharm": {
     "name": "#%%\n"
    }
   }
  },
  {
   "cell_type": "markdown",
   "source": [
    "------"
   ],
   "metadata": {
    "collapsed": false,
    "pycharm": {
     "name": "#%% md\n"
    }
   }
  },
  {
   "cell_type": "code",
   "execution_count": 22,
   "outputs": [],
   "source": [
    "\n",
    "def write_signif(comparison, rho, low_idx_sign, alpha, name):\n",
    "    \"\"\"Log the current data to the file with the experiment.\n",
    "     If the file does not exist, make file and add header row.\n",
    "     :return void\n",
    "     \"\"\"\n",
    "\n",
    "    if not os.path.exists('signif_data'):\n",
    "        os.makedirs(\"signif_data\")\n",
    "\n",
    "    # if file does not exist yet make one and write the column headers in it\n",
    "    my_file = Path(os.path.join(\"signif_data\", name + \".csv\"))\n",
    "\n",
    "    if not my_file.is_file():\n",
    "        with open(os.path.join(\"signif_data\", name + \".csv\"), \"w+\") as f:\n",
    "            wr = csv.writer(f)\n",
    "            wr.writerow([\"comparison\", \"rho\", \"low_idx_sign\", \"alpha\"])\n",
    "\n",
    "    # log the data\n",
    "    with open(os.path.join(\"signif_data\", name + \".csv\"), \"a\") as f:\n",
    "\n",
    "        wr = csv.writer(f)\n",
    "        wr.writerow([comparison, rho, low_idx_sign, alpha])\n",
    "    return None\n",
    "\n",
    "\n",
    "# def find_lowest_sign_bs(col1, col2, alpha):\n",
    "#     \"\"\"\n",
    "#     Binary search for lowest significant index.\n",
    "#     :param col1:\n",
    "#     :param col2:\n",
    "#     :param alpha:\n",
    "#     :return: lowest index that is significant\n",
    "#     \"\"\"\n",
    "#     n_iters = len(col1)\n",
    "#     high = n_iters\n",
    "#     low = 0\n",
    "#     last_signif_idx = n_iters\n",
    "#     while low <= high:\n",
    "#\n",
    "#         mid = low + (high - low) // 2\n",
    "#         print(low, mid, high)\n",
    "#         if not is_significant(mid, col1, col2, 0.05) and mid in [low,high]:\n",
    "#             print('Found', low,mid,high)\n",
    "#             return mid\n",
    "#\n",
    "#         # if not significant yet move up left boundary\n",
    "#         elif not is_significant(mid, col1, col2, 0.05):\n",
    "#             low = mid + 1\n",
    "#         # if is significant, move down right boundary\n",
    "#         else:\n",
    "#             last_signif_idx = mid\n",
    "#             high = mid - 1\n",
    "#     print(\"NOT FOUND WTF\")\n",
    "#\n",
    "#\n",
    "#     return 0\n",
    "\n",
    "def find_lowest_sign(col1,col2,alpha):\n",
    "    right = len(col1)-1\n",
    "    while is_significant(right, col1, col2, alpha):\n",
    "        right -= 1\n",
    "    return right +1\n",
    "\n",
    "\n",
    "from scipy.stats import ttest_ind\n",
    "\n",
    "\n",
    "def is_significant(idx, col1, col2, alpha):\n",
    "\n",
    "\n",
    "    if ttest_ind(col1[:idx], col2[:idx])[1] < alpha:\n",
    "        return True\n",
    "    else:\n",
    "        return False"
   ],
   "metadata": {
    "collapsed": false,
    "pycharm": {
     "name": "#%%\n"
    }
   }
  },
  {
   "cell_type": "code",
   "execution_count": 23,
   "outputs": [
    {
     "name": "stdout",
     "output_type": "stream",
     "text": [
      "DES finished.\n",
      "DES finished.\n",
      "DES finished.\n",
      "DES finished.\n",
      "DES finished.\n",
      "DES finished.\n",
      "DES finished.\n",
      "DES finished.\n",
      "DES finished.\n",
      "DES finished.\n",
      "DES finished.\n",
      "DES finished.\n",
      "DES finished.\n",
      "DES finished.\n",
      "DES finished.\n",
      "DES finished.\n",
      "DES finished.\n",
      "DES finished.\n",
      "DES finished.\n",
      "DES finished.\n",
      "DES finished.\n",
      "DES finished.\n",
      "DES finished.\n",
      "DES finished.\n",
      "DES finished.\n",
      "DES finished.\n",
      "DES finished.\n",
      "DES finished.\n",
      "DES finished.\n",
      "DES finished.\n",
      "DES finished.\n",
      "DES finished.\n",
      "DES finished.\n",
      "DES finished.\n",
      "DES finished.\n",
      "DES finished.\n",
      "DES finished.\n",
      "DES finished.\n",
      "DES finished.\n",
      "DES finished.\n",
      "DES finished.\n",
      "DES finished.\n",
      "DES finished.\n",
      "DES finished.\n",
      "DES finished.\n",
      "DES finished.\n",
      "DES finished.\n",
      "DES finished.\n",
      "DES finished.\n",
      "DES finished.\n",
      "DES finished.\n",
      "DES finished.\n",
      "DES finished.\n",
      "DES finished.\n",
      "DES finished.\n",
      "DES finished.\n",
      "DES finished.\n",
      "DES finished.\n",
      "DES finished.\n",
      "DES finished.\n",
      "DES finished.\n",
      "DES finished.\n",
      "DES finished.\n",
      "DES finished.\n",
      "DES finished.\n",
      "DES finished.\n",
      "DES finished.\n",
      "DES finished.\n",
      "DES finished.\n",
      "DES finished.\n",
      "DES finished.\n",
      "DES finished.\n",
      "DES finished.\n",
      "DES finished.\n",
      "DES finished.\n",
      "DES finished.\n",
      "DES finished.\n",
      "DES finished.\n",
      "DES finished.\n",
      "DES finished.\n",
      "DES finished.\n",
      "DES finished.\n",
      "DES finished.\n",
      "DES finished.\n",
      "DES finished.\n",
      "DES finished.\n",
      "DES finished.\n",
      "DES finished.\n",
      "DES finished.\n",
      "DES finished.\n",
      "DES finished.\n",
      "DES finished.\n",
      "DES finished.\n",
      "DES finished.\n",
      "DES finished.\n",
      "DES finished.\n",
      "DES finished.\n",
      "DES finished.\n",
      "DES finished.\n",
      "DES finished.\n",
      "DES finished.\n",
      "DES finished.\n",
      "DES finished.\n",
      "DES finished.\n",
      "DES finished.\n",
      "DES finished.\n",
      "DES finished.\n",
      "DES finished.\n",
      "DES finished.\n",
      "DES finished.\n",
      "DES finished.\n",
      "DES finished.\n",
      "DES finished.\n",
      "DES finished.\n"
     ]
    }
   ],
   "source": [
    "sign_df = pd.DataFrame(columns=[\"Comparison\", \"Rho\", 'Low_idx_sign'])\n",
    "\n",
    "# all_rhos = np.arange(0.1,1,0.1)\n",
    "all_rhos = np.arange(0,1,0.05)[1:]\n",
    "\n",
    "max_iter = 5000\n",
    "alpha = 0.05\n",
    "name = \"test\"\n",
    "# for comparison of n [1vs2,1vs4,2vs4]:\n",
    "for comp_tuple in zip([1,1,2],[2,4,4]):\n",
    "    for rho in all_rhos:\n",
    "        # do simulation here\n",
    "        wt_1 = gen_waiting_time(comp_tuple[0],max_iter, mu, lamd\n",
    "                                , a, b, queue_type,f_name)[1000:]\n",
    "        wt_2 = gen_waiting_time(comp_tuple[1],max_iter, mu, lamd\n",
    "                                , a, b, queue_type,f_name)[1000:]\n",
    "        while not is_significant(-1,wt_1,wt_2, alpha):\n",
    "            max_iter *= 2\n",
    "            print(f\"Ttest with all samples is not significant for rho {rho}, and comparing {comp_tuple}. Doubling the iterations to {max_iter}\")\n",
    "            wt_1 = gen_waiting_time(comp_tuple[0],max_iter, mu, lamd\n",
    "                                    , a, b, queue_type,f_name)[1000:]\n",
    "            wt_2 = gen_waiting_time(comp_tuple[1],max_iter, mu, lamd\n",
    "                                    , a, b, queue_type,f_name)[1000:]\n",
    "\n",
    "        else:\n",
    "            low_idx =find_lowest_sign(wt_1,wt_2,alpha)\n",
    "            write_signif(comp_tuple,rho,low_idx, alpha, name)"
   ],
   "metadata": {
    "collapsed": false,
    "pycharm": {
     "name": "#%%\n"
    }
   }
  },
  {
   "cell_type": "code",
   "execution_count": 24,
   "outputs": [
    {
     "data": {
      "text/plain": "   comparison   rho  low_idx_sign  alpha\n0      (1, 2)  0.05             2   0.05\n1      (1, 2)  0.10            16   0.05\n2      (1, 2)  0.15             2   0.05\n3      (1, 2)  0.20             8   0.05\n4      (1, 2)  0.25             2   0.05\n5      (1, 2)  0.30             7   0.05\n6      (1, 2)  0.35             2   0.05\n7      (1, 2)  0.40             2   0.05\n8      (1, 2)  0.45             4   0.05\n9      (1, 2)  0.50             6   0.05\n10     (1, 2)  0.55             3   0.05\n11     (1, 2)  0.60             3   0.05\n12     (1, 2)  0.65             2   0.05\n13     (1, 2)  0.70             2   0.05\n14     (1, 2)  0.75             9   0.05\n15     (1, 2)  0.80             2   0.05\n16     (1, 2)  0.85            13   0.05\n17     (1, 2)  0.90            12   0.05\n18     (1, 2)  0.95             2   0.05\n19     (1, 4)  0.05             2   0.05\n20     (1, 4)  0.10             2   0.05\n21     (1, 4)  0.15             3   0.05\n22     (1, 4)  0.20             2   0.05\n23     (1, 4)  0.25             8   0.05\n24     (1, 4)  0.30             8   0.05\n25     (1, 4)  0.35             3   0.05\n26     (1, 4)  0.40             3   0.05\n27     (1, 4)  0.45             2   0.05\n28     (1, 4)  0.50             2   0.05\n29     (1, 4)  0.55             7   0.05\n30     (1, 4)  0.60             2   0.05\n31     (1, 4)  0.65             2   0.05\n32     (1, 4)  0.70             2   0.05\n33     (1, 4)  0.75            15   0.05\n34     (1, 4)  0.80             2   0.05\n35     (1, 4)  0.85            11   0.05\n36     (1, 4)  0.90             4   0.05\n37     (1, 4)  0.95             2   0.05\n38     (2, 4)  0.05            92   0.05\n39     (2, 4)  0.10            44   0.05\n40     (2, 4)  0.15            85   0.05\n41     (2, 4)  0.20            91   0.05\n42     (2, 4)  0.25            16   0.05\n43     (2, 4)  0.30           146   0.05\n44     (2, 4)  0.35            41   0.05\n45     (2, 4)  0.40           217   0.05\n46     (2, 4)  0.45           126   0.05\n47     (2, 4)  0.50            85   0.05\n48     (2, 4)  0.55            28   0.05\n49     (2, 4)  0.60            99   0.05\n50     (2, 4)  0.65           139   0.05\n51     (2, 4)  0.70           167   0.05\n52     (2, 4)  0.75            67   0.05\n53     (2, 4)  0.80           181   0.05\n54     (2, 4)  0.85           167   0.05\n55     (2, 4)  0.90           200   0.05\n56     (2, 4)  0.95           119   0.05",
      "text/html": "<div>\n<style scoped>\n    .dataframe tbody tr th:only-of-type {\n        vertical-align: middle;\n    }\n\n    .dataframe tbody tr th {\n        vertical-align: top;\n    }\n\n    .dataframe thead th {\n        text-align: right;\n    }\n</style>\n<table border=\"1\" class=\"dataframe\">\n  <thead>\n    <tr style=\"text-align: right;\">\n      <th></th>\n      <th>comparison</th>\n      <th>rho</th>\n      <th>low_idx_sign</th>\n      <th>alpha</th>\n    </tr>\n  </thead>\n  <tbody>\n    <tr>\n      <th>0</th>\n      <td>(1, 2)</td>\n      <td>0.05</td>\n      <td>2</td>\n      <td>0.05</td>\n    </tr>\n    <tr>\n      <th>1</th>\n      <td>(1, 2)</td>\n      <td>0.10</td>\n      <td>16</td>\n      <td>0.05</td>\n    </tr>\n    <tr>\n      <th>2</th>\n      <td>(1, 2)</td>\n      <td>0.15</td>\n      <td>2</td>\n      <td>0.05</td>\n    </tr>\n    <tr>\n      <th>3</th>\n      <td>(1, 2)</td>\n      <td>0.20</td>\n      <td>8</td>\n      <td>0.05</td>\n    </tr>\n    <tr>\n      <th>4</th>\n      <td>(1, 2)</td>\n      <td>0.25</td>\n      <td>2</td>\n      <td>0.05</td>\n    </tr>\n    <tr>\n      <th>5</th>\n      <td>(1, 2)</td>\n      <td>0.30</td>\n      <td>7</td>\n      <td>0.05</td>\n    </tr>\n    <tr>\n      <th>6</th>\n      <td>(1, 2)</td>\n      <td>0.35</td>\n      <td>2</td>\n      <td>0.05</td>\n    </tr>\n    <tr>\n      <th>7</th>\n      <td>(1, 2)</td>\n      <td>0.40</td>\n      <td>2</td>\n      <td>0.05</td>\n    </tr>\n    <tr>\n      <th>8</th>\n      <td>(1, 2)</td>\n      <td>0.45</td>\n      <td>4</td>\n      <td>0.05</td>\n    </tr>\n    <tr>\n      <th>9</th>\n      <td>(1, 2)</td>\n      <td>0.50</td>\n      <td>6</td>\n      <td>0.05</td>\n    </tr>\n    <tr>\n      <th>10</th>\n      <td>(1, 2)</td>\n      <td>0.55</td>\n      <td>3</td>\n      <td>0.05</td>\n    </tr>\n    <tr>\n      <th>11</th>\n      <td>(1, 2)</td>\n      <td>0.60</td>\n      <td>3</td>\n      <td>0.05</td>\n    </tr>\n    <tr>\n      <th>12</th>\n      <td>(1, 2)</td>\n      <td>0.65</td>\n      <td>2</td>\n      <td>0.05</td>\n    </tr>\n    <tr>\n      <th>13</th>\n      <td>(1, 2)</td>\n      <td>0.70</td>\n      <td>2</td>\n      <td>0.05</td>\n    </tr>\n    <tr>\n      <th>14</th>\n      <td>(1, 2)</td>\n      <td>0.75</td>\n      <td>9</td>\n      <td>0.05</td>\n    </tr>\n    <tr>\n      <th>15</th>\n      <td>(1, 2)</td>\n      <td>0.80</td>\n      <td>2</td>\n      <td>0.05</td>\n    </tr>\n    <tr>\n      <th>16</th>\n      <td>(1, 2)</td>\n      <td>0.85</td>\n      <td>13</td>\n      <td>0.05</td>\n    </tr>\n    <tr>\n      <th>17</th>\n      <td>(1, 2)</td>\n      <td>0.90</td>\n      <td>12</td>\n      <td>0.05</td>\n    </tr>\n    <tr>\n      <th>18</th>\n      <td>(1, 2)</td>\n      <td>0.95</td>\n      <td>2</td>\n      <td>0.05</td>\n    </tr>\n    <tr>\n      <th>19</th>\n      <td>(1, 4)</td>\n      <td>0.05</td>\n      <td>2</td>\n      <td>0.05</td>\n    </tr>\n    <tr>\n      <th>20</th>\n      <td>(1, 4)</td>\n      <td>0.10</td>\n      <td>2</td>\n      <td>0.05</td>\n    </tr>\n    <tr>\n      <th>21</th>\n      <td>(1, 4)</td>\n      <td>0.15</td>\n      <td>3</td>\n      <td>0.05</td>\n    </tr>\n    <tr>\n      <th>22</th>\n      <td>(1, 4)</td>\n      <td>0.20</td>\n      <td>2</td>\n      <td>0.05</td>\n    </tr>\n    <tr>\n      <th>23</th>\n      <td>(1, 4)</td>\n      <td>0.25</td>\n      <td>8</td>\n      <td>0.05</td>\n    </tr>\n    <tr>\n      <th>24</th>\n      <td>(1, 4)</td>\n      <td>0.30</td>\n      <td>8</td>\n      <td>0.05</td>\n    </tr>\n    <tr>\n      <th>25</th>\n      <td>(1, 4)</td>\n      <td>0.35</td>\n      <td>3</td>\n      <td>0.05</td>\n    </tr>\n    <tr>\n      <th>26</th>\n      <td>(1, 4)</td>\n      <td>0.40</td>\n      <td>3</td>\n      <td>0.05</td>\n    </tr>\n    <tr>\n      <th>27</th>\n      <td>(1, 4)</td>\n      <td>0.45</td>\n      <td>2</td>\n      <td>0.05</td>\n    </tr>\n    <tr>\n      <th>28</th>\n      <td>(1, 4)</td>\n      <td>0.50</td>\n      <td>2</td>\n      <td>0.05</td>\n    </tr>\n    <tr>\n      <th>29</th>\n      <td>(1, 4)</td>\n      <td>0.55</td>\n      <td>7</td>\n      <td>0.05</td>\n    </tr>\n    <tr>\n      <th>30</th>\n      <td>(1, 4)</td>\n      <td>0.60</td>\n      <td>2</td>\n      <td>0.05</td>\n    </tr>\n    <tr>\n      <th>31</th>\n      <td>(1, 4)</td>\n      <td>0.65</td>\n      <td>2</td>\n      <td>0.05</td>\n    </tr>\n    <tr>\n      <th>32</th>\n      <td>(1, 4)</td>\n      <td>0.70</td>\n      <td>2</td>\n      <td>0.05</td>\n    </tr>\n    <tr>\n      <th>33</th>\n      <td>(1, 4)</td>\n      <td>0.75</td>\n      <td>15</td>\n      <td>0.05</td>\n    </tr>\n    <tr>\n      <th>34</th>\n      <td>(1, 4)</td>\n      <td>0.80</td>\n      <td>2</td>\n      <td>0.05</td>\n    </tr>\n    <tr>\n      <th>35</th>\n      <td>(1, 4)</td>\n      <td>0.85</td>\n      <td>11</td>\n      <td>0.05</td>\n    </tr>\n    <tr>\n      <th>36</th>\n      <td>(1, 4)</td>\n      <td>0.90</td>\n      <td>4</td>\n      <td>0.05</td>\n    </tr>\n    <tr>\n      <th>37</th>\n      <td>(1, 4)</td>\n      <td>0.95</td>\n      <td>2</td>\n      <td>0.05</td>\n    </tr>\n    <tr>\n      <th>38</th>\n      <td>(2, 4)</td>\n      <td>0.05</td>\n      <td>92</td>\n      <td>0.05</td>\n    </tr>\n    <tr>\n      <th>39</th>\n      <td>(2, 4)</td>\n      <td>0.10</td>\n      <td>44</td>\n      <td>0.05</td>\n    </tr>\n    <tr>\n      <th>40</th>\n      <td>(2, 4)</td>\n      <td>0.15</td>\n      <td>85</td>\n      <td>0.05</td>\n    </tr>\n    <tr>\n      <th>41</th>\n      <td>(2, 4)</td>\n      <td>0.20</td>\n      <td>91</td>\n      <td>0.05</td>\n    </tr>\n    <tr>\n      <th>42</th>\n      <td>(2, 4)</td>\n      <td>0.25</td>\n      <td>16</td>\n      <td>0.05</td>\n    </tr>\n    <tr>\n      <th>43</th>\n      <td>(2, 4)</td>\n      <td>0.30</td>\n      <td>146</td>\n      <td>0.05</td>\n    </tr>\n    <tr>\n      <th>44</th>\n      <td>(2, 4)</td>\n      <td>0.35</td>\n      <td>41</td>\n      <td>0.05</td>\n    </tr>\n    <tr>\n      <th>45</th>\n      <td>(2, 4)</td>\n      <td>0.40</td>\n      <td>217</td>\n      <td>0.05</td>\n    </tr>\n    <tr>\n      <th>46</th>\n      <td>(2, 4)</td>\n      <td>0.45</td>\n      <td>126</td>\n      <td>0.05</td>\n    </tr>\n    <tr>\n      <th>47</th>\n      <td>(2, 4)</td>\n      <td>0.50</td>\n      <td>85</td>\n      <td>0.05</td>\n    </tr>\n    <tr>\n      <th>48</th>\n      <td>(2, 4)</td>\n      <td>0.55</td>\n      <td>28</td>\n      <td>0.05</td>\n    </tr>\n    <tr>\n      <th>49</th>\n      <td>(2, 4)</td>\n      <td>0.60</td>\n      <td>99</td>\n      <td>0.05</td>\n    </tr>\n    <tr>\n      <th>50</th>\n      <td>(2, 4)</td>\n      <td>0.65</td>\n      <td>139</td>\n      <td>0.05</td>\n    </tr>\n    <tr>\n      <th>51</th>\n      <td>(2, 4)</td>\n      <td>0.70</td>\n      <td>167</td>\n      <td>0.05</td>\n    </tr>\n    <tr>\n      <th>52</th>\n      <td>(2, 4)</td>\n      <td>0.75</td>\n      <td>67</td>\n      <td>0.05</td>\n    </tr>\n    <tr>\n      <th>53</th>\n      <td>(2, 4)</td>\n      <td>0.80</td>\n      <td>181</td>\n      <td>0.05</td>\n    </tr>\n    <tr>\n      <th>54</th>\n      <td>(2, 4)</td>\n      <td>0.85</td>\n      <td>167</td>\n      <td>0.05</td>\n    </tr>\n    <tr>\n      <th>55</th>\n      <td>(2, 4)</td>\n      <td>0.90</td>\n      <td>200</td>\n      <td>0.05</td>\n    </tr>\n    <tr>\n      <th>56</th>\n      <td>(2, 4)</td>\n      <td>0.95</td>\n      <td>119</td>\n      <td>0.05</td>\n    </tr>\n  </tbody>\n</table>\n</div>"
     },
     "execution_count": 24,
     "metadata": {},
     "output_type": "execute_result"
    }
   ],
   "source": [
    "res = pd.read_csv(f'signif_data/{name}.csv')\n",
    "res"
   ],
   "metadata": {
    "collapsed": false,
    "pycharm": {
     "name": "#%%\n"
    }
   }
  },
  {
   "cell_type": "code",
   "execution_count": 37,
   "outputs": [
    {
     "name": "stdout",
     "output_type": "stream",
     "text": [
      "\n"
     ]
    },
    {
     "data": {
      "text/plain": "<Figure size 648x432 with 1 Axes>",
      "image/png": "[encoded data removed]"
     },
     "metadata": {
      "needs_background": "light"
     },
     "output_type": "display_data"
    }
   ],
   "source": [
    "plt.figure(figsize=(9,6))\n",
    "print()\n",
    "for comp in set(res['comparison']):\n",
    "    cur_comp = res[res['comparison']==comp]\n",
    "    plt.plot(cur_comp['rho'], cur_comp['low_idx_sign'], label = comp)\n",
    "    plt.scatter(cur_comp['rho'], cur_comp['low_idx_sign'])\n",
    "plt.legend()\n",
    "plt.xlabel(fr\"$\\rho$\")\n",
    "plt.ylabel(\"First iter for p<0.05\")\n",
    "plt.show()\n"
   ],
   "metadata": {
    "collapsed": false,
    "pycharm": {
     "name": "#%%\n"
    }
   }
  },
  {
   "cell_type": "code",
   "execution_count": 25,
   "outputs": [],
   "source": [],
   "metadata": {
    "collapsed": false,
    "pycharm": {
     "name": "#%%\n"
    }
   }
  }
 ],
 "metadata": {
  "kernelspec": {
   "display_name": "Python 3",
   "language": "python",
   "name": "python3"
  },
  "language_info": {
   "codemirror_mode": {
    "name": "ipython",
    "version": 2
   },
   "file_extension": ".py",
   "mimetype": "text/x-python",
   "name": "python",
   "nbconvert_exporter": "python",
   "pygments_lexer": "ipython2",
   "version": "2.7.6"
  }
 },
 "nbformat": 4,
 "nbformat_minor": 0
}